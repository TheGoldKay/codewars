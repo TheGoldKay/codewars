{
 "cells": [
  {
   "cell_type": "code",
   "execution_count": 4,
   "id": "aa720e7c",
   "metadata": {},
   "outputs": [],
   "source": [
    "import re\n",
    "from itertools import groupby"
   ]
  },
  {
   "cell_type": "code",
   "execution_count": 5,
   "id": "02c177c6",
   "metadata": {},
   "outputs": [],
   "source": [
    "s = 'alpha beta beta gamma gamma gamma delta alpha beta beta gamma gamma gamma delta'\n",
    "s2 = 'alpha alpha'"
   ]
  },
  {
   "cell_type": "code",
   "execution_count": 6,
   "id": "a1de1ba8",
   "metadata": {},
   "outputs": [],
   "source": [
    "def remove_consecutive_duplicates(s : str) -> str:\n",
    "    l = s.split(' ')\n",
    "    res = [l[0]]\n",
    "    for i in range(1, len(l)):\n",
    "        print(res)\n",
    "        if(l[i] != l[i-1]):\n",
    "            res.append(l[i])\n",
    "    if(len(l) > 1 and l[-1] != l[-2]):\n",
    "        res.append(l[-1])\n",
    "    return \" \".join(res)    "
   ]
  },
  {
   "cell_type": "code",
   "execution_count": 7,
   "id": "ebb12c7a",
   "metadata": {},
   "outputs": [
    {
     "name": "stdout",
     "output_type": "stream",
     "text": [
      "['aa']\n",
      "['aa', 'a']\n",
      "['aa', 'a', 'aa']\n",
      "['aa', 'a', 'aa', 'a']\n"
     ]
    },
    {
     "data": {
      "text/plain": [
       "'aa a aa a aa aa'"
      ]
     },
     "execution_count": 7,
     "metadata": {},
     "output_type": "execute_result"
    }
   ],
   "source": [
    "remove_consecutive_duplicates('aa a aa a aa')"
   ]
  },
  {
   "cell_type": "code",
   "execution_count": 13,
   "id": "7427c43a",
   "metadata": {},
   "outputs": [
    {
     "data": {
      "text/plain": [
       "'alpha beta gamma delta alpha beta gamma delta'"
      ]
     },
     "execution_count": 13,
     "metadata": {},
     "output_type": "execute_result"
    }
   ],
   "source": [
    "\" \".join(map(lambda x: x[0], groupby(s.split())))"
   ]
  }
 ],
 "metadata": {
  "kernelspec": {
   "display_name": "Python 3 (ipykernel)",
   "language": "python",
   "name": "python3"
  },
  "language_info": {
   "codemirror_mode": {
    "name": "ipython",
    "version": 3
   },
   "file_extension": ".py",
   "mimetype": "text/x-python",
   "name": "python",
   "nbconvert_exporter": "python",
   "pygments_lexer": "ipython3",
   "version": "3.11.5"
  }
 },
 "nbformat": 4,
 "nbformat_minor": 5
}
