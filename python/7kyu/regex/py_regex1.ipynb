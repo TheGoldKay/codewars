{
 "cells": [
  {
   "cell_type": "code",
   "execution_count": 7,
   "id": "aa720e7c",
   "metadata": {},
   "outputs": [],
   "source": [
    "import re"
   ]
  },
  {
   "cell_type": "code",
   "execution_count": 20,
   "id": "02c177c6",
   "metadata": {},
   "outputs": [],
   "source": [
    "s = 'alpha beta beta gamma gamma gamma delta alpha beta beta gamma gamma gamma delta'\n",
    "s2 = 'alpha alpha'"
   ]
  },
  {
   "cell_type": "code",
   "execution_count": 45,
   "id": "a1de1ba8",
   "metadata": {},
   "outputs": [],
   "source": [
    "def remove_consecutive_duplicates(s : str) -> str:\n",
    "    l = s.split(' ')\n",
    "    res = [l[0]]\n",
    "    for i in range(1, len(l)):\n",
    "        print(res)\n",
    "        if(l[i] != l[i-1]):\n",
    "            res.append(l[i])\n",
    "    if(len(l) > 1 and l[-1] != l[-2]):\n",
    "        res.append(l[-1])\n",
    "    return \" \".join(res)    "
   ]
  },
  {
   "cell_type": "code",
   "execution_count": 46,
   "id": "ebb12c7a",
   "metadata": {},
   "outputs": [
    {
     "name": "stdout",
     "output_type": "stream",
     "text": [
      "['aa']\n",
      "['aa', 'a']\n",
      "['aa', 'a', 'aa']\n"
     ]
    },
    {
     "data": {
      "text/plain": [
       "'aa a aa a aa'"
      ]
     },
     "execution_count": 46,
     "metadata": {},
     "output_type": "execute_result"
    }
   ],
   "source": [
    "remove_consecutive_duplicates('aa a aa a aa')"
   ]
  },
  {
   "cell_type": "code",
   "execution_count": 15,
   "id": "7427c43a",
   "metadata": {},
   "outputs": [
    {
     "ename": "IndexError",
     "evalue": "string index out of range",
     "output_type": "error",
     "traceback": [
      "\u001b[1;31m---------------------------------------------------------------------------\u001b[0m",
      "\u001b[1;31mIndexError\u001b[0m                                Traceback (most recent call last)",
      "Cell \u001b[1;32mIn[15], line 2\u001b[0m\n\u001b[0;32m      1\u001b[0m x \u001b[38;5;241m=\u001b[39m \u001b[38;5;124m'\u001b[39m\u001b[38;5;124m12\u001b[39m\u001b[38;5;124m'\u001b[39m\n\u001b[1;32m----> 2\u001b[0m x[\u001b[38;5;241m-\u001b[39m\u001b[38;5;241m3\u001b[39m]\n",
      "\u001b[1;31mIndexError\u001b[0m: string index out of range"
     ]
    }
   ],
   "source": [
    "x = '12'\n",
    "x[-3]"
   ]
  }
 ],
 "metadata": {
  "kernelspec": {
   "display_name": "Python 3 (ipykernel)",
   "language": "python",
   "name": "python3"
  },
  "language_info": {
   "codemirror_mode": {
    "name": "ipython",
    "version": 3
   },
   "file_extension": ".py",
   "mimetype": "text/x-python",
   "name": "python",
   "nbconvert_exporter": "python",
   "pygments_lexer": "ipython3",
   "version": "3.11.5"
  }
 },
 "nbformat": 4,
 "nbformat_minor": 5
}
